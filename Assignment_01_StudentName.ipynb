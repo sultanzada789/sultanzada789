{
  "nbformat": 4,
  "nbformat_minor": 0,
  "metadata": {
    "colab": {
      "provenance": []
    },
    "kernelspec": {
      "name": "python3",
      "display_name": "Python 3"
    },
    "language_info": {
      "name": "python"
    }
  },
  "cells": [
    {
      "cell_type": "code",
      "execution_count": null,
      "metadata": {
        "id": "14YJGGiBCAb8"
      },
      "outputs": [],
      "source": []
    },
    {
      "cell_type": "markdown",
      "source": [
        "# creating a list and iterating through `for loop`"
      ],
      "metadata": {
        "id": "wfsjD3TwCcWl"
      }
    },
    {
      "cell_type": "code",
      "source": [
        "fruits=['mango','bnana','grapes','cherry']\n",
        "print(fruits)"
      ],
      "metadata": {
        "colab": {
          "base_uri": "https://localhost:8080/"
        },
        "id": "lytFA88ACx15",
        "outputId": "15ce4932-f7f4-4dd1-82e1-4beaca1fbde7"
      },
      "execution_count": 28,
      "outputs": [
        {
          "output_type": "stream",
          "name": "stdout",
          "text": [
            "['mango', 'bnana', 'grapes', 'cherry']\n"
          ]
        }
      ]
    },
    {
      "cell_type": "code",
      "source": [
        "print(type(fruits))"
      ],
      "metadata": {
        "colab": {
          "base_uri": "https://localhost:8080/"
        },
        "id": "AYfbShMvDhZC",
        "outputId": "4cdeebae-28b5-4118-da45-7058921b8fbd"
      },
      "execution_count": 29,
      "outputs": [
        {
          "output_type": "stream",
          "name": "stdout",
          "text": [
            "<class 'list'>\n"
          ]
        }
      ]
    },
    {
      "cell_type": "code",
      "source": [
        "# iterating the ietm through for loop\n",
        "for ietms in fruits:\n",
        "  print(ietms)"
      ],
      "metadata": {
        "colab": {
          "base_uri": "https://localhost:8080/"
        },
        "id": "Q8sE8E43DVlp",
        "outputId": "51f2c6f4-9e77-43da-9a01-64f576dba0a0"
      },
      "execution_count": 30,
      "outputs": [
        {
          "output_type": "stream",
          "name": "stdout",
          "text": [
            "mango\n",
            "bnana\n",
            "grapes\n",
            "cherry\n"
          ]
        }
      ]
    },
    {
      "cell_type": "markdown",
      "source": [
        "# creating a tuple of numbers using random number"
      ],
      "metadata": {
        "id": "JlmLjbkfD_5W"
      }
    },
    {
      "cell_type": "code",
      "source": [
        "numbers=(1,4,7,9)\n",
        "print(numbers)"
      ],
      "metadata": {
        "colab": {
          "base_uri": "https://localhost:8080/"
        },
        "id": "TFZKNTvbEHMR",
        "outputId": "5dedd202-7761-458e-c671-3baa84e2cf9e"
      },
      "execution_count": 6,
      "outputs": [
        {
          "output_type": "stream",
          "name": "stdout",
          "text": [
            "(1, 4, 7, 9)\n"
          ]
        }
      ]
    },
    {
      "cell_type": "code",
      "source": [
        "print(type(numbers))"
      ],
      "metadata": {
        "colab": {
          "base_uri": "https://localhost:8080/"
        },
        "id": "Fdrow9K_EW1D",
        "outputId": "ea07d449-5078-4af8-ff2d-f9588f285668"
      },
      "execution_count": 7,
      "outputs": [
        {
          "output_type": "stream",
          "name": "stdout",
          "text": [
            "<class 'tuple'>\n"
          ]
        }
      ]
    },
    {
      "cell_type": "code",
      "source": [
        "# ietrating through `for loop`\n",
        "for number in numbers:\n",
        "  print(number)"
      ],
      "metadata": {
        "colab": {
          "base_uri": "https://localhost:8080/"
        },
        "id": "JY2PJcx8EkLf",
        "outputId": "58489843-7355-423d-a605-ecd15c8bb5c6"
      },
      "execution_count": 9,
      "outputs": [
        {
          "output_type": "stream",
          "name": "stdout",
          "text": [
            "1\n",
            "4\n",
            "7\n",
            "9\n"
          ]
        }
      ]
    },
    {
      "cell_type": "markdown",
      "source": [
        "# creating a set named colors using name of different colors\n"
      ],
      "metadata": {
        "id": "p4NyATRIE9N4"
      }
    },
    {
      "cell_type": "code",
      "source": [
        "colors={'red','orange','black'}\n",
        "print(colors)"
      ],
      "metadata": {
        "colab": {
          "base_uri": "https://localhost:8080/"
        },
        "id": "NzaZIflBFSGs",
        "outputId": "4d37d55a-a0dc-466f-d1af-8e42b2dbf4c9"
      },
      "execution_count": 15,
      "outputs": [
        {
          "output_type": "stream",
          "name": "stdout",
          "text": [
            "{'red', 'orange', 'black'}\n"
          ]
        }
      ]
    },
    {
      "cell_type": "code",
      "source": [
        "# iterating the set through for loop\n",
        "for color in colors:\n",
        "  print(color)"
      ],
      "metadata": {
        "colab": {
          "base_uri": "https://localhost:8080/"
        },
        "id": "TX_a-br4F0-y",
        "outputId": "0f6da781-978d-48ba-bf47-a19e3b219dcb"
      },
      "execution_count": 16,
      "outputs": [
        {
          "output_type": "stream",
          "name": "stdout",
          "text": [
            "red\n",
            "orange\n",
            "black\n"
          ]
        }
      ]
    },
    {
      "cell_type": "markdown",
      "source": [
        "# creating  a dictionary using names,age,grade as key and name of student,age,grade as key"
      ],
      "metadata": {
        "id": "g3YbFIO_GIV1"
      }
    },
    {
      "cell_type": "code",
      "source": [
        "name_dict={'name':'sultan','age':32,'grade':86}\n",
        "print(name_dict)"
      ],
      "metadata": {
        "colab": {
          "base_uri": "https://localhost:8080/"
        },
        "id": "m3TVEt0IHSAY",
        "outputId": "526199b9-c0d3-4175-b90e-37d0619dfddd"
      },
      "execution_count": 19,
      "outputs": [
        {
          "output_type": "stream",
          "name": "stdout",
          "text": [
            "{'name': 'sultan', 'age': 32, 'grade': 86}\n"
          ]
        }
      ]
    },
    {
      "cell_type": "code",
      "source": [
        "# ietrating the dictionary through for loop\n",
        "# first iterating through key\n",
        "for key in name_dict:\n",
        "  print(key)\n",
        "print()\n",
        " #secondaly ietration pf values through for loop\n",
        "for value in name_dict.values():\n",
        "  print(value)"
      ],
      "metadata": {
        "colab": {
          "base_uri": "https://localhost:8080/"
        },
        "id": "7VIWTvE3IWK8",
        "outputId": "3ece9f6d-6f43-4a64-ca9c-184461bc6426"
      },
      "execution_count": 27,
      "outputs": [
        {
          "output_type": "stream",
          "name": "stdout",
          "text": [
            "name\n",
            "age\n",
            "grade\n",
            "\n",
            "sultan\n",
            "32\n",
            "86\n"
          ]
        }
      ]
    },
    {
      "cell_type": "markdown",
      "source": [
        "# multiline string named as 'poem'"
      ],
      "metadata": {
        "id": "9ciAZntuL9nG"
      }
    },
    {
      "cell_type": "code",
      "source": [
        "Poem='''This is a multiline string.\n",
        "It can span multiple lines.\n",
        "You can even include \"quotes\" inside it.\n",
        "\n",
        "'''\n",
        "print(Poem)"
      ],
      "metadata": {
        "colab": {
          "base_uri": "https://localhost:8080/"
        },
        "id": "IBsDpVYRLY7Q",
        "outputId": "9c5343b1-b9cc-436c-b4e6-e81127207015"
      },
      "execution_count": 32,
      "outputs": [
        {
          "output_type": "stream",
          "name": "stdout",
          "text": [
            "This is a multiline string.\n",
            "It can span multiple lines.\n",
            "You can even include \"quotes\" inside it.\n",
            "\n",
            "\n"
          ]
        }
      ]
    },
    {
      "cell_type": "markdown",
      "source": [
        "# checking the length of fruits using if statment"
      ],
      "metadata": {
        "id": "QZ5HYhWUM3s4"
      }
    },
    {
      "cell_type": "code",
      "source": [
        "if len(fruits) > 3:  # we can change or play with function by changing the ietms of fruits\n",
        "    print(\"You have many fruits!\")\n"
      ],
      "metadata": {
        "colab": {
          "base_uri": "https://localhost:8080/"
        },
        "id": "ZdpV9tUkMpG-",
        "outputId": "bd0762af-6bb6-4140-8703-ede07146a5aa"
      },
      "execution_count": 39,
      "outputs": [
        {
          "output_type": "stream",
          "name": "stdout",
          "text": [
            "You have many fruits!\n"
          ]
        }
      ]
    },
    {
      "cell_type": "markdown",
      "source": [
        "# fail pass system using a simple program"
      ],
      "metadata": {
        "id": "g-UKcSkqYU-1"
      }
    },
    {
      "cell_type": "code",
      "source": [
        "given_grade = int(input(\"Please input numerical grade: \"))  # Convert input to integer immediately\n",
        "\n",
        "if given_grade >= 90:  # Use >= for inclusive comparison\n",
        "    print(\"A grade\")\n",
        "elif 80 <= given_grade <= 89:  # Use correct syntax for inclusive range\n",
        "    print(\"B grade\")\n",
        "elif 70 <= given_grade <= 79:\n",
        "    print(\"C grade\")\n",
        "elif 60 <= given_grade <= 69:  # Correct the range for D grade\n",
        "    print(\"D grade\")\n",
        "else:\n",
        "    print(\"F grade\")\n"
      ],
      "metadata": {
        "id": "iNHpzO5WVd7f"
      },
      "execution_count": null,
      "outputs": []
    },
    {
      "cell_type": "markdown",
      "source": [
        "# checking the temprature"
      ],
      "metadata": {
        "id": "ABX9CK1JYN0W"
      }
    },
    {
      "cell_type": "code",
      "source": [
        "# Get temperature input from the user\n",
        "temperature = float(input(\"Enter temperature in Celsius: \"))\n",
        "\n",
        "# Classify temperature based on ranges\n",
        "if temperature < -10:\n",
        "    category = \"Freezing\"\n",
        "elif -10 <= temperature < 0:\n",
        "    category = \"Cold\"\n",
        "elif 0 <= temperature < 20:\n",
        "    category = \"Moderate\"\n",
        "elif 20 <= temperature < 30:\n",
        "    category = \"Warm\"\n",
        "else:\n",
        "    category = \"Hot\"\n",
        "\n",
        "# Print the temperature and its category\n",
        "print(f\"Temperature: {temperature}°C\")\n",
        "print(f\"Category: {category}\")\n"
      ],
      "metadata": {
        "id": "hb2cA0cqX1eQ"
      },
      "execution_count": null,
      "outputs": []
    }
  ]
}